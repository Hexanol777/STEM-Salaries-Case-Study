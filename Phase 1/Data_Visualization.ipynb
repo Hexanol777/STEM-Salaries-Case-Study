{
 "cells": [
  {
   "cell_type": "markdown",
   "metadata": {},
   "source": [
    "![iut](https://github.com/Hexanol777/STEM-Salaries-Case-Study/tree/main/Phase%201/stock_image/IUT200.png)\n",
    "<hr style=\"margin-bottom: 40px;\">\n",
    "\n",
    "<img src=\"https://github.com/Hexanol777/STEM-Salaries-Case-Study/tree/main/Phase%201/stock_image/Header.jpg\"\n",
    "    style=\"width:400px; float: right; margin: 0 40px 40px 40px;\"></img>\n",
    "\n",
    "# STEM Jobs Salaries\n",
    "\n",
    "## Data Visualization\n",
    "\n",
    "#### Data visualization is an essential component of any data analysis project as it allows us to explore and communicate our data effectively. By creating visual representations of the data, we can identify patterns, trends, and outliers that may not be immediately apparent from raw data.These visualizations will help us to gain insights into the distribution of the data, the relationship between different variables, and any outliers that may exist. Ultimately, the goal of data visualization is to provide a clear and concise representation of the data that is easy to understand and interpret, even for those without a strong background in data analysis.\n",
    "\n",
    "[Link to the Data used in this Notebook](https://drive.google.com/file/d/1IhXv0qcq7YFfBxc0BQB1-z74wF40ZnZn/view?usp=share_link)"
   ]
  },
  {
   "cell_type": "markdown",
   "metadata": {},
   "source": [
    "![purple-divider](https://user-images.githubusercontent.com/7065401/52071927-c1cd7100-2562-11e9-908a-dde91ba14e59.png)\n",
    "\n",
    "## Importing Modules"
   ]
  },
  {
   "cell_type": "code",
   "execution_count": null,
   "metadata": {},
   "outputs": [],
   "source": [
    "import numpy as np\n",
    "import pandas as pd\n",
    "import matplotlib.pyplot as plt\n",
    "\n",
    "%matplotlib inline"
   ]
  },
  {
   "cell_type": "markdown",
   "metadata": {},
   "source": [
    "![green-divider](https://user-images.githubusercontent.com/7065401/52071924-c003ad80-2562-11e9-8297-1c6595f8a7ff.png)\n",
    "\n",
    "## Loading The Data:"
   ]
  },
  {
   "cell_type": "code",
   "execution_count": null,
   "metadata": {},
   "outputs": [],
   "source": [
    "!head data/jobs_with_country_codes.csv\n",
    "# Note: incase if you are running this line locally you will be met with the error below\n",
    "# as this notebook is meant to be executed at Google Colab"
   ]
  },
  {
   "cell_type": "code",
   "execution_count": null,
   "metadata": {},
   "outputs": [],
   "source": [
    "Data = pd.read_csv(\n",
    "    'data/jobs_with_country_codes.csv',\n",
    "    parse_dates=['Timestamp'])"
   ]
  },
  {
   "cell_type": "markdown",
   "metadata": {},
   "source": [
    "![green-divider](https://user-images.githubusercontent.com/7065401/52071924-c003ad80-2562-11e9-8297-1c6595f8a7ff.png)\n",
    "\n",
    "## The Data at a Glance:"
   ]
  },
  {
   "cell_type": "code",
   "execution_count": null,
   "metadata": {},
   "outputs": [],
   "source": [
    "Data.head()"
   ]
  },
  {
   "cell_type": "code",
   "execution_count": null,
   "metadata": {},
   "outputs": [],
   "source": [
    "Data.shape"
   ]
  },
  {
   "cell_type": "code",
   "execution_count": null,
   "metadata": {},
   "outputs": [],
   "source": [
    "Data.info()"
   ]
  },
  {
   "cell_type": "code",
   "execution_count": null,
   "metadata": {},
   "outputs": [],
   "source": [
    "Data.describe()"
   ]
  },
  {
   "cell_type": "markdown",
   "metadata": {},
   "source": [
    "![green-divider](https://user-images.githubusercontent.com/7065401/52071924-c003ad80-2562-11e9-8297-1c6595f8a7ff.png)\n",
    "\n",
    "## Numerical analysis and visualization\n",
    "\n",
    "We'll analyze the `BaseSalary` column:"
   ]
  },
  {
   "cell_type": "code",
   "execution_count": null,
   "metadata": {},
   "outputs": [],
   "source": [
    "Data['TotalYearlyCompensation'].describe()"
   ]
  },
  {
   "cell_type": "code",
   "execution_count": null,
   "metadata": {},
   "outputs": [],
   "source": [
    "Data['TotalYearlyCompensation'].mean()"
   ]
  },
  {
   "cell_type": "code",
   "execution_count": null,
   "metadata": {},
   "outputs": [],
   "source": [
    "Data['TotalYearlyCompensation'].median()"
   ]
  },
  {
   "cell_type": "code",
   "execution_count": null,
   "metadata": {},
   "outputs": [],
   "source": [
    "# Specify the tick format as full numbers instead of scientific numbers\n",
    "pd.set_option('display.float_format', '{:.0f}'.format)"
   ]
  },
  {
   "cell_type": "code",
   "execution_count": null,
   "metadata": {},
   "outputs": [],
   "source": [
    "Data['TotalYearlyCompensation'].plot(kind='box', vert=False, showfliers=False, figsize=(14,6))"
   ]
  },
  {
   "cell_type": "code",
   "execution_count": null,
   "metadata": {},
   "outputs": [],
   "source": [
    "Data['TotalYearlyCompensation'].plot(kind='density', figsize=(14,6))"
   ]
  },
  {
   "cell_type": "code",
   "execution_count": null,
   "metadata": {},
   "outputs": [],
   "source": [
    "ax = Data['TotalYearlyCompensation'].plot(kind='density', figsize=(14,6)) # kde\n",
    "ax.axvline(Data['TotalYearlyCompensation'].mean(), color='red')\n",
    "ax.axvline(Data['TotalYearlyCompensation'].median(), color='green')"
   ]
  },
  {
   "cell_type": "code",
   "execution_count": null,
   "metadata": {},
   "outputs": [],
   "source": [
    "ax = Data['TotalYearlyCompensation'].plot(kind='hist', figsize=(14,6))\n",
    "ax.set_ylabel('Frequency')\n",
    "ax.set_xlabel('Dollars')"
   ]
  },
  {
   "cell_type": "markdown",
   "metadata": {},
   "source": [
    "![green-divider](https://user-images.githubusercontent.com/7065401/52071924-c003ad80-2562-11e9-8297-1c6595f8a7ff.png)\n",
    "\n",
    "## Categorical analysis and visualization\n",
    "\n",
    "We'll analyze the `Country` column:\n",
    "\n",
    "Later on the `.nlargest()` method to force the graphs to only show first 8 countries.\n",
    "[Refer to the ``Pandas Documentation`` for more info](https://pandas.pydata.org/docs/reference/api/pandas.DataFrame.nlargest.html#pandas-dataframe-nlargest) \n",
    "\n",
    "The `autopct='%1.1f%%'` is also used to display percentages up to the 0.x decimal on the pie charts.\n",
    "[Link to documentaion for further info](https://matplotlib.org/3.1.1/_modules/matplotlib/pyplot.html#pie)"
   ]
  },
  {
   "cell_type": "raw",
   "metadata": {},
   "source": [
    "Data.head()"
   ]
  },
  {
   "cell_type": "markdown",
   "metadata": {},
   "source": [
    "### What 'Countries' host the most STEM job positions?"
   ]
  },
  {
   "cell_type": "code",
   "execution_count": null,
   "metadata": {
    "scrolled": true
   },
   "outputs": [],
   "source": [
    "Data['Country'].value_counts()"
   ]
  },
  {
   "cell_type": "code",
   "execution_count": null,
   "metadata": {},
   "outputs": [],
   "source": [
    "Data['Country'].value_counts().nlargest(8).plot(kind='pie', figsize=(8,8), autopct='%1.1f%%')"
   ]
  },
  {
   "cell_type": "code",
   "execution_count": null,
   "metadata": {},
   "outputs": [],
   "source": [
    "plot = Data['Country'].value_counts().nlargest(8).plot(kind='bar', figsize=(14,6))\n",
    "plot.set_ylabel('Number of STEM Positions')"
   ]
  },
  {
   "cell_type": "markdown",
   "metadata": {},
   "source": [
    "### Gender distribution among STEM workers?"
   ]
  },
  {
   "cell_type": "code",
   "execution_count": null,
   "metadata": {
    "scrolled": false
   },
   "outputs": [],
   "source": [
    "filtered_data = Data[Data['Gender'] != 'NA']\n",
    "filtered_data['Gender'].value_counts().nlargest(2).plot(kind='pie', figsize=(7,7), autopct='%1.1f%%')"
   ]
  },
  {
   "cell_type": "markdown",
   "metadata": {},
   "source": [
    "### Distribution of educational attainment among individuals employed in STEM fields"
   ]
  },
  {
   "cell_type": "code",
   "execution_count": null,
   "metadata": {
    "scrolled": false
   },
   "outputs": [],
   "source": [
    "filtered_data = Data[Data['Education'] != 'NA']\n",
    "filtered_data['Education'].value_counts().nlargest(3).plot(kind='pie', figsize=(7,7), autopct='%1.1f%%')"
   ]
  },
  {
   "cell_type": "markdown",
   "metadata": {},
   "source": [
    "### Most common titles?"
   ]
  },
  {
   "cell_type": "code",
   "execution_count": null,
   "metadata": {
    "scrolled": false
   },
   "outputs": [],
   "source": [
    "Title_counts = Data['Title'].value_counts()\n",
    "Title_counts.head(10)\n",
    "top_titles = Title_counts[:10]\n",
    "plt.barh(top_titles.index, top_titles.values)\n",
    "plt.gca().invert_yaxis()\n",
    "\n",
    "plt.xlabel('Count')\n",
    "plt.ylabel('Job Title')\n",
    "plt.show()\n",
    "Title_counts.head(10)"
   ]
  },
  {
   "cell_type": "markdown",
   "metadata": {},
   "source": [
    "### Most common Companies?"
   ]
  },
  {
   "cell_type": "code",
   "execution_count": null,
   "metadata": {},
   "outputs": [],
   "source": [
    "Title_counts = Data['Company'].value_counts()\n",
    "Title_counts.head(10)\n",
    "top_titles = Title_counts[:10]\n",
    "plt.barh(top_titles.index, top_titles.values)\n",
    "plt.gca().invert_yaxis()\n",
    "\n",
    "plt.xlabel('Count')\n",
    "plt.ylabel('Company')\n",
    "plt.show()\n",
    "Title_counts.head(10)"
   ]
  },
  {
   "cell_type": "markdown",
   "metadata": {},
   "source": [
    "![green-divider](https://user-images.githubusercontent.com/7065401/52071924-c003ad80-2562-11e9-8297-1c6595f8a7ff.png)\n",
    "\n",
    "## Relationship between the columns?\n",
    "\n",
    "Can we find any significant relationship?"
   ]
  },
  {
   "cell_type": "code",
   "execution_count": null,
   "metadata": {},
   "outputs": [],
   "source": [
    "corr = Data.corr(numeric_only=True)\n",
    "\n",
    "corr"
   ]
  },
  {
   "cell_type": "code",
   "execution_count": null,
   "metadata": {
    "scrolled": false
   },
   "outputs": [],
   "source": [
    "fig = plt.figure(figsize=(8,8))\n",
    "plt.matshow(corr, cmap='RdBu', fignum=fig.number)\n",
    "plt.xticks(range(len(corr.columns)), corr.columns, rotation='vertical');\n",
    "plt.yticks(range(len(corr.columns)), corr.columns);"
   ]
  },
  {
   "cell_type": "code",
   "execution_count": null,
   "metadata": {},
   "outputs": [],
   "source": [
    "Data.plot(kind='scatter', x='YearsOfExperience', y='TotalYearlyCompensation', figsize=(7,7))"
   ]
  },
  {
   "cell_type": "code",
   "execution_count": null,
   "metadata": {},
   "outputs": [],
   "source": [
    "Data.plot(kind='scatter', x='BaseSalary', y='TotalYearlyCompensation', figsize=(6,6))"
   ]
  },
  {
   "cell_type": "code",
   "execution_count": null,
   "metadata": {},
   "outputs": [],
   "source": [
    "bxplt = Data[['TotalYearlyCompensation', 'Country']].boxplot(by='Country', figsize=(25,15))\n",
    "bxplt.set_ylabel('TotalYearlyCompensation')"
   ]
  },
  {
   "cell_type": "code",
   "execution_count": null,
   "metadata": {},
   "outputs": [],
   "source": [
    "degree_means = Data.groupby('Education')['BaseSalary'].mean()\n",
    "top_3_degrees = degree_means.nlargest(3)\n",
    "fig, ax = plt.subplots()\n",
    "ax.bar(top_3_degrees.index, top_3_degrees.values)\n",
    "ax.set_xlabel('Educational Degree')\n",
    "ax.set_ylabel('Average BaseSalary')\n",
    "ax.set_title('Average BaseSalary for Top 3 Educational Degrees')\n",
    "plt.show()\n",
    "top_3_degrees.head()"
   ]
  },
  {
   "cell_type": "code",
   "execution_count": null,
   "metadata": {},
   "outputs": [],
   "source": [
    "excluded_data = Data[Data['Gender'] != 'Other']\n",
    "gender_salary = excluded_data.groupby('Gender')['BaseSalary'].mean().nlargest(2)\n",
    "gender_salary.plot(kind='bar', color=['blue', 'pink'])\n",
    "plt.title('Mean Base Salary by Gender')\n",
    "plt.xlabel('Gender')\n",
    "plt.ylabel('Mean Base Salary')\n",
    "plt.xticks(rotation=0)\n",
    "plt.show()\n",
    "gender_salary.head()"
   ]
  },
  {
   "cell_type": "code",
   "execution_count": null,
   "metadata": {
    "scrolled": false
   },
   "outputs": [],
   "source": [
    "boxplot_cols = ['TotalYearlyCompensation', 'YearsOfExperience', 'YearsAtCompany', 'BaseSalary', 'StockGrantValue', 'Bonus']\n",
    "\n",
    "Data[boxplot_cols].plot(kind='box', subplots=True, layout=(2,3), figsize=(14,8))"
   ]
  },
  {
   "cell_type": "code",
   "execution_count": null,
   "metadata": {},
   "outputs": [],
   "source": []
  },
  {
   "cell_type": "markdown",
   "metadata": {},
   "source": [
    "![purple-divider](https://user-images.githubusercontent.com/7065401/52071927-c1cd7100-2562-11e9-908a-dde91ba14e59.png)\n"
   ]
  }
 ],
 "metadata": {
  "kernelspec": {
   "display_name": "Python 3 (ipykernel)",
   "language": "python",
   "name": "python3"
  },
  "language_info": {
   "codemirror_mode": {
    "name": "ipython",
    "version": 3
   },
   "file_extension": ".py",
   "mimetype": "text/x-python",
   "name": "python",
   "nbconvert_exporter": "python",
   "pygments_lexer": "ipython3",
   "version": "3.11.2"
  }
 },
 "nbformat": 4,
 "nbformat_minor": 4
}
