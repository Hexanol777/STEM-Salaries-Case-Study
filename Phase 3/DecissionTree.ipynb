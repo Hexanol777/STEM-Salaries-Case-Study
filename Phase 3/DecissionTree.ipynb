{
 "cells": [
  {
   "cell_type": "markdown",
   "metadata": {},
   "source": [
    "![iut](stock_image\\IUT200.png)\n",
    "<hr style=\"margin-bottom: 40px;\">\n",
    "\n",
    "\n",
    "# STEM Jobs Salaries - Decission Tree\n",
    "\n",
    "## Decision Tree\n",
    "\n",
    "#### Classification is a fundamental task in machine learning and data analysis that involves categorizing data into predefined classes or categories based on their features or attributes. It is a supervised learning technique where the goal is to train a model on labeled training data to make accurate predictions on unseen or test data.\n",
    "\n",
    "[Link to the Data used in this Notebook](https://drive.google.com/file/d/1IhXv0qcq7YFfBxc0BQB1-z74wF40ZnZn/view?usp=share_link)\n"
   ]
  },
  {
   "cell_type": "markdown",
   "metadata": {},
   "source": [
    "![purple-divider](https://user-images.githubusercontent.com/7065401/52071927-c1cd7100-2562-11e9-908a-dde91ba14e59.png)\n",
    "\n",
    "## Decission Tree - Importing Modules\n",
    "\n"
   ]
  },
  {
   "cell_type": "code",
   "execution_count": null,
   "metadata": {},
   "outputs": [],
   "source": [
    "import warnings\n",
    "warnings.filterwarnings(\"ignore\")\n",
    "\n",
    "import numpy as np\n",
    "import pandas as pd\n",
    "import matplotlib.pyplot as plt\n",
    "\n",
    "%matplotlib inline\n"
   ]
  },
  {
   "cell_type": "markdown",
   "metadata": {},
   "source": [
    "![green-divider](https://user-images.githubusercontent.com/7065401/52071924-c003ad80-2562-11e9-8297-1c6595f8a7ff.png)\n",
    "\n",
    "## Loading The Initial Data:\n"
   ]
  },
  {
   "cell_type": "code",
   "execution_count": null,
   "metadata": {},
   "outputs": [],
   "source": [
    "!head data/STEMJobs.csv\n",
    "# Note: incase if you are running this line locally you will be met with the error below\n",
    "# as this notebook is meant to be executed in Google Colab"
   ]
  },
  {
   "cell_type": "code",
   "execution_count": null,
   "metadata": {},
   "outputs": [],
   "source": [
    "Data = pd.read_csv(\n",
    "    'Data/STEM.csv',\n",
    "    parse_dates=['Timestamp'])"
   ]
  },
  {
   "cell_type": "markdown",
   "metadata": {},
   "source": [
    "![green-divider](https://user-images.githubusercontent.com/7065401/52071924-c003ad80-2562-11e9-8297-1c6595f8a7ff.png)\n",
    "\n",
    "## Data First Look:"
   ]
  },
  {
   "cell_type": "code",
   "execution_count": null,
   "metadata": {},
   "outputs": [],
   "source": [
    "Data.head()"
   ]
  },
  {
   "cell_type": "code",
   "execution_count": null,
   "metadata": {},
   "outputs": [],
   "source": [
    "Data.info()"
   ]
  },
  {
   "cell_type": "markdown",
   "metadata": {},
   "source": [
    "![green-divider](https://user-images.githubusercontent.com/7065401/52071924-c003ad80-2562-11e9-8297-1c6595f8a7ff.png)\n",
    "\n",
    "## Data Types\n"
   ]
  },
  {
   "cell_type": "code",
   "execution_count": null,
   "metadata": {},
   "outputs": [],
   "source": [
    "Data.dtypes"
   ]
  },
  {
   "cell_type": "markdown",
   "metadata": {},
   "source": [
    "![green-divider](https://user-images.githubusercontent.com/7065401/52071924-c003ad80-2562-11e9-8297-1c6595f8a7ff.png)\n",
    "\n",
    "## Data Preparation\n"
   ]
  },
  {
   "cell_type": "code",
   "execution_count": null,
   "metadata": {
    "scrolled": true
   },
   "outputs": [],
   "source": [
    "Data.head()"
   ]
  },
  {
   "cell_type": "code",
   "execution_count": null,
   "metadata": {},
   "outputs": [],
   "source": [
    "new_data = Data\n",
    "\n",
    "new_data = new_data.drop(['Timestamp', 'IsUS', 'IsUS', 'IsCA', 'IsID', 'IsIN', 'IsDE', \n",
    "                          'Tag', 'IsMale', 'IsFemale', 'Masters_Degree', 'Bachelors_Degree'], axis=1)"
   ]
  },
  {
   "cell_type": "code",
   "execution_count": null,
   "metadata": {
    "scrolled": true
   },
   "outputs": [],
   "source": [
    "new_data.head()"
   ]
  },
  {
   "cell_type": "code",
   "execution_count": null,
   "metadata": {
    "scrolled": true
   },
   "outputs": [],
   "source": [
    "new_data.corr()"
   ]
  },
  {
   "cell_type": "code",
   "execution_count": null,
   "metadata": {},
   "outputs": [],
   "source": [
    "x = new_data\n",
    "x = x.drop(['TotalYearlyCompensation', 'BaseSalary'], axis=1)"
   ]
  },
  {
   "cell_type": "code",
   "execution_count": null,
   "metadata": {},
   "outputs": [],
   "source": [
    "y = new_data.BaseSalary"
   ]
  },
  {
   "cell_type": "code",
   "execution_count": null,
   "metadata": {},
   "outputs": [],
   "source": [
    "x"
   ]
  },
  {
   "cell_type": "code",
   "execution_count": null,
   "metadata": {},
   "outputs": [],
   "source": [
    "print(x.Gender.value_counts())"
   ]
  },
  {
   "cell_type": "code",
   "execution_count": null,
   "metadata": {},
   "outputs": [],
   "source": [
    "len(x.Education.unique())"
   ]
  },
  {
   "cell_type": "code",
   "execution_count": null,
   "metadata": {},
   "outputs": [],
   "source": [
    "len(x.Country.unique())"
   ]
  },
  {
   "cell_type": "code",
   "execution_count": null,
   "metadata": {},
   "outputs": [],
   "source": [
    "len(x.Title.unique())"
   ]
  },
  {
   "cell_type": "code",
   "execution_count": null,
   "metadata": {},
   "outputs": [],
   "source": [
    "len(x.Level.unique())"
   ]
  },
  {
   "cell_type": "code",
   "execution_count": null,
   "metadata": {},
   "outputs": [],
   "source": [
    "len(x.Company.unique())"
   ]
  },
  {
   "cell_type": "code",
   "execution_count": null,
   "metadata": {},
   "outputs": [],
   "source": [
    "x = x.drop(['Level', 'Company'], axis=1)"
   ]
  },
  {
   "cell_type": "code",
   "execution_count": null,
   "metadata": {
    "scrolled": false
   },
   "outputs": [],
   "source": [
    "pd.get_dummies(x)"
   ]
  },
  {
   "cell_type": "code",
   "execution_count": null,
   "metadata": {},
   "outputs": [],
   "source": [
    "x = pd.get_dummies(x)"
   ]
  },
  {
   "cell_type": "code",
   "execution_count": null,
   "metadata": {},
   "outputs": [],
   "source": [
    "x"
   ]
  },
  {
   "cell_type": "code",
   "execution_count": null,
   "metadata": {},
   "outputs": [],
   "source": [
    "y"
   ]
  },
  {
   "cell_type": "code",
   "execution_count": null,
   "metadata": {},
   "outputs": [],
   "source": [
    "from sklearn.model_selection import train_test_split"
   ]
  },
  {
   "cell_type": "code",
   "execution_count": null,
   "metadata": {},
   "outputs": [],
   "source": [
    "x_train, x_test, y_train, y_test =train_test_split(x, y, train_size=0.8)"
   ]
  },
  {
   "cell_type": "code",
   "execution_count": null,
   "metadata": {
    "scrolled": false
   },
   "outputs": [],
   "source": [
    "x_train"
   ]
  },
  {
   "cell_type": "code",
   "execution_count": null,
   "metadata": {},
   "outputs": [],
   "source": [
    "y_train"
   ]
  },
  {
   "cell_type": "markdown",
   "metadata": {},
   "source": [
    "![green-divider](https://user-images.githubusercontent.com/7065401/52071924-c003ad80-2562-11e9-8297-1c6595f8a7ff.png)\n",
    "\n",
    "## Sklearn Module - Decession Tree Regressor\n"
   ]
  },
  {
   "cell_type": "code",
   "execution_count": null,
   "metadata": {},
   "outputs": [],
   "source": [
    "import sklearn\n",
    "\n",
    "from sklearn.tree import DecisionTreeRegressor"
   ]
  },
  {
   "cell_type": "code",
   "execution_count": null,
   "metadata": {},
   "outputs": [],
   "source": [
    "# List of criterion methods\n",
    "criterion_methods = ['squared_error', 'friedman_mse', 'poisson']\n",
    "\n",
    "# Iterate over each criterion method\n",
    "for method in criterion_methods:\n",
    "    # Create the DecisionTreeRegressor with the current criterion method\n",
    "    DT = DecisionTreeRegressor(criterion=method, max_depth=9, min_samples_split=2, random_state=0)\n",
    "    \n",
    "    # Fit the model on the training data\n",
    "    DT.fit(x_train, y_train)\n",
    "    \n",
    "    # Calculate the score on the test data\n",
    "    score = DT.score(x_test, y_test)\n",
    "    \n",
    "    # Print the score for the current criterion method\n",
    "    print(f\"Criterion: {method}\")\n",
    "    print(f\"Score: {score}\\n\")\n"
   ]
  },
  {
   "cell_type": "code",
   "execution_count": null,
   "metadata": {},
   "outputs": [],
   "source": [
    "# List of criterion methods\n",
    "criterion_methods = ['squared_error', 'friedman_mse', 'poisson']\n",
    "max_depths = range(9, 21)\n",
    "scores = []\n",
    "\n",
    "# Iterate over each criterion method\n",
    "for method in criterion_methods:\n",
    "    criterion_scores = []\n",
    "    \n",
    "    # Iterate over each max_depth value\n",
    "    for max_depth in max_depths:\n",
    "        # Create the DecisionTreeRegressor with the current criterion method and max_depth\n",
    "        DT = DecisionTreeRegressor(criterion=method, max_depth=max_depth, min_samples_split=2, random_state=0)\n",
    "        \n",
    "        # Fit the model on the training data\n",
    "        DT.fit(x_train, y_train)\n",
    "        \n",
    "        # Calculate the score on the test data\n",
    "        score = DT.score(x_test, y_test)\n",
    "        criterion_scores.append(score)\n",
    "    \n",
    "    # Print the scores for the current criterion method\n",
    "    print(f\"Criterion: {method}\")\n",
    "    print(\"Scores:\", criterion_scores)\n",
    "    print()\n",
    "    \n",
    "    # Store the scores for the current criterion method\n",
    "    scores.append(criterion_scores)\n",
    "\n",
    "# Plot the scores for each criterion method\n",
    "for i, method in enumerate(criterion_methods):\n",
    "    plt.plot(max_depths, scores[i], label=method)\n",
    "\n",
    "plt.xlabel('max_depth')\n",
    "plt.ylabel('Score')\n",
    "plt.title('DecisionTreeRegressor Scores for Different Criteria')\n",
    "plt.legend()\n",
    "plt.show()"
   ]
  },
  {
   "cell_type": "code",
   "execution_count": null,
   "metadata": {},
   "outputs": [],
   "source": [
    "DT = DecisionTreeRegressor(criterion='poisson', max_depth=5, min_samples_split=2, random_state=0)"
   ]
  },
  {
   "cell_type": "code",
   "execution_count": null,
   "metadata": {},
   "outputs": [],
   "source": [
    "DT.fit(x_train, y_train)"
   ]
  },
  {
   "cell_type": "code",
   "execution_count": null,
   "metadata": {},
   "outputs": [],
   "source": [
    "DT.score(x_test, y_test)"
   ]
  },
  {
   "cell_type": "code",
   "execution_count": null,
   "metadata": {},
   "outputs": [],
   "source": [
    "importance_scores = zip(x.columns, DT.feature_importances_)\n",
    "sorted_importances = sorted(importance_scores, key=lambda x: x[1], reverse=True)\n",
    "\n",
    "for feature, importance in sorted_importances:\n",
    "    print(f\"{feature}: {importance}\")"
   ]
  },
  {
   "cell_type": "markdown",
   "metadata": {},
   "source": [
    "![green-divider](https://user-images.githubusercontent.com/7065401/52071924-c003ad80-2562-11e9-8297-1c6595f8a7ff.png)\n",
    "\n",
    "## Sklearn Module - Random Forest Regressor\n"
   ]
  },
  {
   "cell_type": "code",
   "execution_count": null,
   "metadata": {},
   "outputs": [],
   "source": [
    "from sklearn.ensemble import RandomForestRegressor"
   ]
  },
  {
   "cell_type": "code",
   "execution_count": null,
   "metadata": {},
   "outputs": [],
   "source": [
    "forest = RandomForestRegressor(n_estimators=500, max_depth=21, max_features=\"sqrt\", bootstrap=False, n_jobs=-1)"
   ]
  },
  {
   "cell_type": "code",
   "execution_count": null,
   "metadata": {
    "scrolled": false
   },
   "outputs": [],
   "source": [
    "forest.fit(x_train, y_train)"
   ]
  },
  {
   "cell_type": "code",
   "execution_count": null,
   "metadata": {
    "scrolled": false
   },
   "outputs": [],
   "source": [
    "forest.score(x_test, y_test)"
   ]
  },
  {
   "cell_type": "code",
   "execution_count": null,
   "metadata": {},
   "outputs": [],
   "source": [
    "n_estimators = 500\n",
    "max_depths = range(10, 35)\n",
    "max_features = \"sqrt\"\n",
    "bootstrap = False\n",
    "n_jobs = -1\n",
    "\n",
    "scores = []\n",
    "\n",
    "for max_depth in max_depths:\n",
    "    forest = RandomForestRegressor(n_estimators=n_estimators, max_depth=max_depth,\n",
    "                                   max_features=max_features, bootstrap=bootstrap, n_jobs=n_jobs)\n",
    "\n",
    "    forest.fit(x_train, y_train)\n",
    "    score = forest.score(x_test, y_test)\n",
    "    scores.append(score)\n",
    "\n",
    "plt.plot(max_depths, scores)\n",
    "plt.xlabel('max_depth')\n",
    "plt.ylabel('Score')\n",
    "plt.title('RandomForestRegressor Scores for Different max_depth')\n",
    "plt.show()"
   ]
  },
  {
   "cell_type": "code",
   "execution_count": null,
   "metadata": {},
   "outputs": [],
   "source": [
    "importance_scores = zip(x.columns, forest.feature_importances_)\n",
    "sorted_importances = sorted(importance_scores, key=lambda x: x[1], reverse=True)\n",
    "\n",
    "for feature, importance in sorted_importances:\n",
    "    print(f\"{feature}: {importance}\")"
   ]
  },
  {
   "cell_type": "markdown",
   "metadata": {},
   "source": [
    "![green-divider](https://user-images.githubusercontent.com/7065401/52071924-c003ad80-2562-11e9-8297-1c6595f8a7ff.png)\n",
    "\n",
    "## Plotting The Trees\n"
   ]
  },
  {
   "cell_type": "code",
   "execution_count": null,
   "metadata": {},
   "outputs": [],
   "source": [
    "from sklearn import tree"
   ]
  },
  {
   "cell_type": "markdown",
   "metadata": {},
   "source": [
    "![green-divider](https://user-images.githubusercontent.com/7065401/52071924-c003ad80-2562-11e9-8297-1c6595f8a7ff.png)\n",
    "\n",
    "## DT Tree\n"
   ]
  },
  {
   "cell_type": "code",
   "execution_count": null,
   "metadata": {},
   "outputs": [],
   "source": [
    "fig = plt.figure(figsize=(100, 100))\n",
    "tree.plot_tree(DT, filled=True)\n",
    "fig.savefig(\"DT Tree.png\")"
   ]
  },
  {
   "cell_type": "code",
   "execution_count": null,
   "metadata": {
    "scrolled": false
   },
   "outputs": [],
   "source": [
    "from sklearn.tree import export_text\n",
    "\n",
    "tree_text = export_text(DT)\n",
    "\n",
    "print(tree_text)"
   ]
  },
  {
   "cell_type": "markdown",
   "metadata": {},
   "source": [
    "![green-divider](https://user-images.githubusercontent.com/7065401/52071924-c003ad80-2562-11e9-8297-1c6595f8a7ff.png)\n",
    "\n",
    "## Forest Tree\n"
   ]
  },
  {
   "cell_type": "code",
   "execution_count": null,
   "metadata": {},
   "outputs": [],
   "source": [
    "from sklearn.ensemble import RandomForestRegressor\n",
    "from sklearn.datasets import make_regression\n",
    "\n",
    "tree_to_visualize = forest.estimators_[0]\n",
    "\n",
    "plt.figure(figsize=(10, 10))\n",
    "tree.plot_tree(tree_to_visualize, filled=True)\n",
    "plt.show()"
   ]
  },
  {
   "cell_type": "code",
   "execution_count": null,
   "metadata": {},
   "outputs": [],
   "source": [
    "fig.savefig(\"DT Tree.png\")"
   ]
  },
  {
   "cell_type": "code",
   "execution_count": null,
   "metadata": {},
   "outputs": [],
   "source": [
    "from sklearn.ensemble import AdaBoostRegressor\n",
    "from sklearn.metrics import r2_score\n",
    "\n",
    "# Create an instance of AdaBoostRegressor\n",
    "ada_boost = AdaBoostRegressor()\n",
    "\n",
    "# Fit the model on the training data\n",
    "ada_boost.fit(x_train, y_train)\n",
    "\n",
    "# Make predictions on the test data\n",
    "y_pred = ada_boost.predict(x_test)\n",
    "\n",
    "# Calculate the score using R-squared metric\n",
    "score = r2_score(y_test, y_pred)\n",
    "\n",
    "# Print the score\n",
    "print(\"Score:\", score)\n"
   ]
  },
  {
   "cell_type": "code",
   "execution_count": null,
   "metadata": {},
   "outputs": [],
   "source": [
    "from sklearn.ensemble import BaggingRegressor\n",
    "from sklearn.tree import DecisionTreeRegressor\n",
    "\n",
    "# Instantiate the BaggingRegressor with specified parameters\n",
    "bagging = BaggingRegressor(\n",
    "                           n_estimators=50,\n",
    "                           max_samples=0.1,\n",
    "                           max_features=0.9,\n",
    "                           bootstrap=False,\n",
    "                           random_state=0)\n",
    "\n",
    "# Fit the model on the training data\n",
    "bagging.fit(x_train, y_train)\n",
    "\n",
    "# Calculate the score on the test data\n",
    "score = bagging.score(x_test, y_test)\n",
    "\n",
    "# Print the score\n",
    "print(\"BaggingRegressor Score:\", score)\n",
    "\n"
   ]
  },
  {
   "cell_type": "code",
   "execution_count": null,
   "metadata": {},
   "outputs": [],
   "source": [
    "from sklearn.ensemble import ExtraTreesRegressor\n",
    "\n",
    "# Instantiate the ExtraTreesRegressor with specified parameters\n",
    "extra_trees = ExtraTreesRegressor(n_estimators=50,\n",
    "                                  criterion='squared_error',\n",
    "                                  max_depth=None,\n",
    "                                  min_samples_split=2,\n",
    "                                  min_samples_leaf=1,\n",
    "                                  max_features='auto',\n",
    "                                  bootstrap=False,\n",
    "                                  random_state=0)\n",
    "\n",
    "# Fit the model on the training data\n",
    "extra_trees.fit(x_train, y_train)\n",
    "\n",
    "# Calculate the score on the test data\n",
    "score = extra_trees.score(x_test, y_test)\n",
    "\n",
    "# Print the score\n",
    "print(\"ExtraTreesRegressor Score:\", score)\n"
   ]
  },
  {
   "cell_type": "code",
   "execution_count": null,
   "metadata": {},
   "outputs": [],
   "source": [
    "from sklearn.ensemble import GradientBoostingRegressor\n",
    "\n",
    "# Instantiate the GradientBoostingRegressor with specified parameters\n",
    "gradient_boosting = GradientBoostingRegressor(loss='squared_error',\n",
    "                                              learning_rate=0.1,\n",
    "                                              n_estimators=200,\n",
    "                                              subsample=0.8,\n",
    "                                              criterion='squared_error',\n",
    "                                              min_samples_split=2,\n",
    "                                              min_samples_leaf=1,\n",
    "                                              max_depth=5,\n",
    "                                              max_features=None,\n",
    "                                              random_state=0)\n",
    "\n",
    "# Fit the model on the training data\n",
    "gradient_boosting.fit(x_train, y_train)\n",
    "\n",
    "# Calculate the score on the test data\n",
    "score = gradient_boosting.score(x_test, y_test)\n",
    "\n",
    "# Print the score\n",
    "print(\"GradientBoostingRegressor Score:\", score)"
   ]
  },
  {
   "cell_type": "code",
   "execution_count": null,
   "metadata": {},
   "outputs": [],
   "source": [
    "from sklearn.ensemble import StackingRegressor\n",
    "from sklearn.linear_model import LinearRegression\n",
    "from sklearn.tree import DecisionTreeRegressor\n",
    "from sklearn.neighbors import KNeighborsRegressor\n",
    "\n",
    "# Instantiate the base estimators\n",
    "estimators = [\n",
    "    ('linear', LinearRegression()),\n",
    "    ('tree', DecisionTreeRegressor()),\n",
    "    ('knn', KNeighborsRegressor())\n",
    "]\n",
    "\n",
    "# Instantiate the StackingRegressor with the base estimators and meta-estimator\n",
    "stacking_reg = StackingRegressor(estimators=estimators, final_estimator=LinearRegression())\n",
    "\n",
    "# Fit the model on the training data\n",
    "stacking_reg.fit(x_train, y_train)\n",
    "\n",
    "# Predict using the StackingRegressor\n",
    "y_pred = stacking_reg.predict(x_test)\n",
    "\n",
    "# Evaluate the model's performance\n",
    "score = stacking_reg.score(x_test, y_test)\n",
    "print(\"StackingRegressor Score:\", score)\n"
   ]
  },
  {
   "cell_type": "code",
   "execution_count": null,
   "metadata": {},
   "outputs": [],
   "source": [
    "from sklearn.ensemble import HistGradientBoostingRegressor\n",
    "\n",
    "# Instantiate the HistGradientBoostingRegressor\n",
    "hist_gb_reg = HistGradientBoostingRegressor()\n",
    "\n",
    "# Fit the model on the training data\n",
    "hist_gb_reg.fit(x_train, y_train)\n",
    "\n",
    "# Predict using the HistGradientBoostingRegressor\n",
    "y_pred = hist_gb_reg.predict(x_test)\n",
    "\n",
    "# Evaluate the model's performance\n",
    "score = hist_gb_reg.score(x_test, y_test)\n",
    "print(\"HistGradientBoostingRegressor Score:\", score)\n"
   ]
  },
  {
   "cell_type": "markdown",
   "metadata": {},
   "source": [
    "## free me from this suffering\n",
    "\n",
    "\n",
    "![purple-divider](https://user-images.githubusercontent.com/7065401/52071927-c1cd7100-2562-11e9-908a-dde91ba14e59.png)\n"
   ]
  }
 ],
 "metadata": {
  "kernelspec": {
   "display_name": "Python 3 (ipykernel)",
   "language": "python",
   "name": "python3"
  },
  "language_info": {
   "codemirror_mode": {
    "name": "ipython",
    "version": 3
   },
   "file_extension": ".py",
   "mimetype": "text/x-python",
   "name": "python",
   "nbconvert_exporter": "python",
   "pygments_lexer": "ipython3",
   "version": "3.11.2"
  }
 },
 "nbformat": 4,
 "nbformat_minor": 4
}
